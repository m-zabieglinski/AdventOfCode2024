{
 "cells": [
  {
   "cell_type": "markdown",
   "id": "76b77c83-4175-406a-9c7e-45ea93ae8267",
   "metadata": {},
   "source": [
    "## Example\n",
    "```\n",
    "7 6 4 2 1\n",
    "1 2 7 8 9\n",
    "9 7 6 2 1\n",
    "1 3 2 4 5\n",
    "8 6 4 4 1\n",
    "1 3 6 7 9\n",
    "```"
   ]
  },
  {
   "cell_type": "code",
   "execution_count": 1,
   "id": "1ecbf745-a4c3-4e81-96f4-cabb46dc96d6",
   "metadata": {},
   "outputs": [
    {
     "data": {
      "text/plain": [
       "\u001b[36minput\u001b[39m: \u001b[32mString\u001b[39m = \u001b[32m\"\"\"\n",
       "7 6 4 2 1\n",
       "1 2 7 8 9\n",
       "9 7 6 2 1\n",
       "1 3 2 4 5\n",
       "8 6 4 4 1\n",
       "1 3 6 7 9\n",
       "\"\"\"\u001b[39m"
      ]
     },
     "execution_count": 1,
     "metadata": {},
     "output_type": "execute_result"
    }
   ],
   "source": [
    "val input = \"\"\"\n",
    "7 6 4 2 1\n",
    "1 2 7 8 9\n",
    "9 7 6 2 1\n",
    "1 3 2 4 5\n",
    "8 6 4 4 1\n",
    "1 3 6 7 9\n",
    "\"\"\""
   ]
  },
  {
   "cell_type": "markdown",
   "id": "8f732079-a769-4c18-be08-6355a1c00f38",
   "metadata": {},
   "source": [
    "### Part 1 example test"
   ]
  },
  {
   "cell_type": "code",
   "execution_count": 2,
   "id": "4aeb1790-3544-4c9c-8974-e915139153f3",
   "metadata": {},
   "outputs": [
    {
     "data": {
      "text/plain": [
       "defined \u001b[32mfunction\u001b[39m \u001b[36mis_report_safe\u001b[39m"
      ]
     },
     "execution_count": 2,
     "metadata": {},
     "output_type": "execute_result"
    }
   ],
   "source": [
    "def is_report_safe(report: Seq[Int]): Int = {\n",
    "    var delta = 0\n",
    "    var is_safe = 1\n",
    "    report.zip(report.tail).foreach { case (prev, cur) =>\n",
    "        // println(delta)\n",
    "        if (!(1 to 3 contains (prev - cur).abs)) {\n",
    "            is_safe = 0\n",
    "        }\n",
    "        else if ((prev - cur) * delta < 0) {\n",
    "            is_safe = 0\n",
    "        }\n",
    "        else {\n",
    "            delta = prev - cur\n",
    "        }\n",
    "    }\n",
    "    is_safe\n",
    "}"
   ]
  },
  {
   "cell_type": "code",
   "execution_count": 3,
   "id": "7f6728af-c652-499c-b048-1d55e5b02aa9",
   "metadata": {},
   "outputs": [
    {
     "data": {
      "text/plain": [
       "\u001b[36mresult\u001b[39m: \u001b[32mInt\u001b[39m = \u001b[32m2\u001b[39m"
      ]
     },
     "execution_count": 3,
     "metadata": {},
     "output_type": "execute_result"
    }
   ],
   "source": [
    "val result = input\n",
    "    .linesIterator\n",
    "    .filter(_.nonEmpty)\n",
    "    .map(_.split(\" \")\n",
    "         .map(_.toInt)\n",
    "         .toSeq\n",
    "         )\n",
    "    .toSeq\n",
    "    .map(is_report_safe)\n",
    "    .sum"
   ]
  },
  {
   "cell_type": "markdown",
   "id": "00db7419-14cd-49c5-ae5a-b5ca5a56669b",
   "metadata": {},
   "source": [
    "### Part 2 example test"
   ]
  },
  {
   "cell_type": "code",
   "execution_count": 4,
   "id": "bffd94de-640f-44a7-a1b6-9f36b581cd4b",
   "metadata": {
    "scrolled": true
   },
   "outputs": [
    {
     "data": {
      "text/plain": [
       "defined \u001b[32mfunction\u001b[39m \u001b[36mis_report_safe_with_dampener\u001b[39m"
      ]
     },
     "execution_count": 4,
     "metadata": {},
     "output_type": "execute_result"
    }
   ],
   "source": [
    "def is_report_safe_with_dampener(report: Seq[Int]): Int = {\n",
    "    var delta = 0\n",
    "    var is_safe = 1\n",
    "    report.zip((report.tail).zipWithIndex).foreach { case (prev, (cur, cur_idx)) =>\n",
    "        if (!(1 to 3 contains (prev - cur).abs)) {\n",
    "            is_safe = 0\n",
    "        }\n",
    "        else if ((prev - cur) * delta < 0) {\n",
    "            is_safe = 0\n",
    "        }\n",
    "        else {\n",
    "            delta = prev - cur\n",
    "        }\n",
    "    }\n",
    "    if (is_safe == 0){\n",
    "        is_safe = report.zipWithIndex\n",
    "            .map{ case (_, idx) => is_report_safe(report.patch(idx, Nil, 1)) }\n",
    "            .max\n",
    "    }\n",
    "    is_safe\n",
    "}"
   ]
  },
  {
   "cell_type": "code",
   "execution_count": 5,
   "id": "3a40df1d-7c9f-4217-a23c-ddd81682aef5",
   "metadata": {},
   "outputs": [
    {
     "data": {
      "text/plain": [
       "\u001b[36mresult\u001b[39m: \u001b[32mInt\u001b[39m = \u001b[32m4\u001b[39m"
      ]
     },
     "execution_count": 5,
     "metadata": {},
     "output_type": "execute_result"
    }
   ],
   "source": [
    "val result = input\n",
    "    .linesIterator\n",
    "    .filter(_.nonEmpty)\n",
    "    .map(_.split(\" \")\n",
    "         .map(_.toInt)\n",
    "         .toSeq\n",
    "         )\n",
    "    .toSeq\n",
    "    .map(is_report_safe_with_dampener)\n",
    "    .sum"
   ]
  },
  {
   "cell_type": "markdown",
   "id": "1154590b-2cf0-4df6-b9c0-c51f6ee74326",
   "metadata": {},
   "source": [
    "## Problem input"
   ]
  },
  {
   "cell_type": "code",
   "execution_count": 6,
   "id": "910b2e41-8789-4454-9f09-97246e11f231",
   "metadata": {},
   "outputs": [
    {
     "data": {
      "text/plain": [
       "\u001b[32mimport \u001b[39m\u001b[36m$ivy.$                          \n",
       "\u001b[39m\r\n",
       "\u001b[36mpath\u001b[39m: \u001b[32mos\u001b[39m.\u001b[32mPath\u001b[39m = C:\\Users\\ejwod\\AdventOfCode2024\\day2_input.txt"
      ]
     },
     "execution_count": 6,
     "metadata": {},
     "output_type": "execute_result"
    }
   ],
   "source": [
    "import $ivy.`com.lihaoyi::os-lib:0.9.1`\n",
    "val path: os.Path = os.pwd / \"day2_input.txt\""
   ]
  },
  {
   "cell_type": "markdown",
   "id": "0bf0f69c-b172-4108-a4a9-e11fd8a02939",
   "metadata": {},
   "source": [
    "## Part 1"
   ]
  },
  {
   "cell_type": "code",
   "execution_count": 7,
   "id": "325d4e17-23fc-4225-b03d-8f6cf866de4a",
   "metadata": {
    "scrolled": true
   },
   "outputs": [
    {
     "data": {
      "text/plain": [
       "\u001b[36mlines\u001b[39m: \u001b[32mSeq\u001b[39m[\u001b[32mString\u001b[39m] = \u001b[33mWrappedArray\u001b[39m(\n",
       "  \u001b[32m\"82 84 85 87 90 92 93 91\"\u001b[39m,\n",
       "  \u001b[32m\"7 10 12 14 17 19 22 22\"\u001b[39m,\n",
       "  \u001b[32m\"66 68 69 72 74 78\"\u001b[39m,\n",
       "  \u001b[32m\"10 11 13 14 17 18 25\"\u001b[39m,\n",
       "  \u001b[32m\"34 36 39 41 43 42 44\"\u001b[39m,\n",
       "  \u001b[32m\"35 37 40 37 39 38\"\u001b[39m,\n",
       "  \u001b[32m\"12 13 10 11 11\"\u001b[39m,\n",
       "  \u001b[32m\"57 58 55 58 60 62 66\"\u001b[39m,\n",
       "  \u001b[32m\"59 62 59 62 63 66 67 74\"\u001b[39m,\n",
       "  \u001b[32m\"46 48 51 53 54 56 56 59\"\u001b[39m,\n",
       "  \u001b[32m\"5 6 7 7 6\"\u001b[39m,\n",
       "  \u001b[32m\"86 87 89 89 92 92\"\u001b[39m,\n",
       "  \u001b[32m\"77 80 81 84 85 86 86 90\"\u001b[39m,\n",
       "  \u001b[32m\"70 73 76 77 77 78 85\"\u001b[39m,\n",
       "  \u001b[32m\"37 40 44 46 49 50\"\u001b[39m,\n",
       "  \u001b[32m\"61 63 67 69 72 70\"\u001b[39m,\n",
       "  \u001b[32m\"47 48 49 50 54 57 57\"\u001b[39m,\n",
       "  \u001b[32m\"72 75 79 80 82 86\"\u001b[39m,\n",
       "  \u001b[32m\"29 31 32 36 43\"\u001b[39m,\n",
       "  \u001b[32m\"83 84 91 92 94 97\"\u001b[39m,\n",
       "  \u001b[32m\"17 19 20 21 23 24 29 27\"\u001b[39m,\n",
       "  \u001b[32m\"25 27 32 35 35\"\u001b[39m,\n",
       "  \u001b[32m\"28 29 30 35 38 41 45\"\u001b[39m,\n",
       "  \u001b[32m\"58 59 60 62 63 68 70 77\"\u001b[39m,\n",
       "  \u001b[32m\"71 69 70 71 72 75\"\u001b[39m,\n",
       "  \u001b[32m\"62 60 62 65 66 63\"\u001b[39m,\n",
       "  \u001b[32m\"15 12 15 16 19 19\"\u001b[39m,\n",
       "  \u001b[32m\"18 17 20 21 23 25 29\"\u001b[39m,\n",
       "  \u001b[32m\"9 8 10 13 16 19 25\"\u001b[39m,\n",
       "  \u001b[32m\"70 69 66 69 71\"\u001b[39m,\n",
       "  \u001b[32m\"62 60 63 62 65 68 67\"\u001b[39m,\n",
       "  \u001b[32m\"36 35 38 40 38 40 42 42\"\u001b[39m,\n",
       "  \u001b[32m\"26 23 26 24 27 31\"\u001b[39m,\n",
       "  \u001b[32m\"9 7 8 6 9 12 18\"\u001b[39m,\n",
       "  \u001b[32m\"78 76 78 79 82 82 85\"\u001b[39m,\n",
       "  \u001b[32m\"24 22 22 23 21\"\u001b[39m,\n",
       "  \u001b[32m\"47 46 49 49 49\"\u001b[39m,\n",
       "  \u001b[32m\"40 39 40 42 42 45 49\"\u001b[39m,\n",
       "..."
      ]
     },
     "execution_count": 7,
     "metadata": {},
     "output_type": "execute_result"
    }
   ],
   "source": [
    "val lines: Seq[String]  = os.read.lines(path)"
   ]
  },
  {
   "cell_type": "code",
   "execution_count": 8,
   "id": "8ba9454e-3cef-4519-a358-4b744c4dad29",
   "metadata": {
    "scrolled": true
   },
   "outputs": [
    {
     "data": {
      "text/plain": [
       "\u001b[36mresult\u001b[39m: \u001b[32mInt\u001b[39m = \u001b[32m670\u001b[39m"
      ]
     },
     "execution_count": 8,
     "metadata": {},
     "output_type": "execute_result"
    }
   ],
   "source": [
    "val result = lines\n",
    "    .filter(_.nonEmpty)\n",
    "    .map(_.split(\" \")\n",
    "         .map(_.toInt)\n",
    "         .toSeq\n",
    "         )\n",
    "    .toSeq\n",
    "    .map(is_report_safe)\n",
    "    .sum"
   ]
  },
  {
   "cell_type": "markdown",
   "id": "50adae5b-5472-4129-a292-d5b720876739",
   "metadata": {},
   "source": [
    "## Part 2"
   ]
  },
  {
   "cell_type": "code",
   "execution_count": 9,
   "id": "ac704529-4d5d-4004-b1d9-534ed88efe5a",
   "metadata": {
    "scrolled": true
   },
   "outputs": [
    {
     "data": {
      "text/plain": [
       "\u001b[36mresult\u001b[39m: \u001b[32mInt\u001b[39m = \u001b[32m700\u001b[39m"
      ]
     },
     "execution_count": 9,
     "metadata": {},
     "output_type": "execute_result"
    }
   ],
   "source": [
    "val result = lines\n",
    "    .filter(_.nonEmpty)\n",
    "    .map(_.split(\" \")\n",
    "         .map(_.toInt)\n",
    "         .toSeq\n",
    "         )\n",
    "    .toSeq\n",
    "    .map(is_report_safe_with_dampener)\n",
    "    .sum"
   ]
  },
  {
   "cell_type": "code",
   "execution_count": null,
   "id": "cf293f6d-7169-4cef-b624-4c00c29c668b",
   "metadata": {},
   "outputs": [],
   "source": []
  }
 ],
 "metadata": {
  "kernelspec": {
   "display_name": "Scala",
   "language": "scala",
   "name": "scala"
  },
  "language_info": {
   "codemirror_mode": "text/x-scala",
   "file_extension": ".scala",
   "mimetype": "text/x-scala",
   "name": "scala",
   "nbconvert_exporter": "script",
   "version": "2.12.11"
  }
 },
 "nbformat": 4,
 "nbformat_minor": 5
}
