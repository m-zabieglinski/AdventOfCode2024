{
 "cells": [
  {
   "cell_type": "markdown",
   "id": "76b77c83-4175-406a-9c7e-45ea93ae8267",
   "metadata": {},
   "source": [
    "## Example\n",
    "```\n",
    "xmul(2,4)%&mul[3,7]!@^do_not_mul(5,5)+mul(32,64]then(mul(11,8)mul(8,5))\n",
    "```"
   ]
  },
  {
   "cell_type": "code",
   "execution_count": 1,
   "id": "1ecbf745-a4c3-4e81-96f4-cabb46dc96d6",
   "metadata": {},
   "outputs": [
    {
     "data": {
      "text/plain": [
       "\u001b[36mtest_input\u001b[39m: \u001b[32mString\u001b[39m = \u001b[32m\"xmul(2,4)%&mul[3,7]!@^do_not_mul(5,5)+mul(32,64]then(mul(11,8)mul(8,5))\"\u001b[39m"
      ]
     },
     "execution_count": 1,
     "metadata": {},
     "output_type": "execute_result"
    }
   ],
   "source": [
    "val test_input = \"\"\"xmul(2,4)%&mul[3,7]!@^do_not_mul(5,5)+mul(32,64]then(mul(11,8)mul(8,5))\"\"\""
   ]
  },
  {
   "cell_type": "markdown",
   "id": "8f732079-a769-4c18-be08-6355a1c00f38",
   "metadata": {},
   "source": [
    "### Part 1 example test"
   ]
  },
  {
   "cell_type": "code",
   "execution_count": 2,
   "id": "7f6728af-c652-499c-b048-1d55e5b02aa9",
   "metadata": {},
   "outputs": [
    {
     "data": {
      "text/plain": [
       "\u001b[36mre\u001b[39m: \u001b[32mscala\u001b[39m.\u001b[32mutil\u001b[39m.\u001b[32mmatching\u001b[39m.\u001b[32mRegex\u001b[39m = mul\\(\\d+,\\d+\\)\r\n",
       "\u001b[36mresult\u001b[39m: \u001b[32mInt\u001b[39m = \u001b[32m161\u001b[39m"
      ]
     },
     "execution_count": 2,
     "metadata": {},
     "output_type": "execute_result"
    }
   ],
   "source": [
    "val re = \"mul\\\\(\\\\d+,\\\\d+\\\\)\".r\n",
    "val result = re.findAllMatchIn(test_input)\n",
    "    .map(_.toString).toSeq\n",
    "    .map(\"(\\\\d+)\".r.findAllMatchIn(_)\n",
    "         .map(_.toString.toInt).toSeq.product\n",
    "        )\n",
    "    .sum"
   ]
  },
  {
   "cell_type": "markdown",
   "id": "00db7419-14cd-49c5-ae5a-b5ca5a56669b",
   "metadata": {},
   "source": [
    "### Part 2 example test"
   ]
  },
  {
   "cell_type": "code",
   "execution_count": 3,
   "id": "d94962f5-1b85-4a3e-b184-19ab56127565",
   "metadata": {},
   "outputs": [
    {
     "data": {
      "text/plain": [
       "\u001b[36mtest_input_2\u001b[39m: \u001b[32mString\u001b[39m = \u001b[32m\"xmul(2,4)&mul[3,7]!^don't()_mul(5,5)+mul(32,64](mul(11,8)undo()?mul(8,5))\"\u001b[39m"
      ]
     },
     "execution_count": 3,
     "metadata": {},
     "output_type": "execute_result"
    }
   ],
   "source": [
    "val test_input_2 = \"\"\"xmul(2,4)&mul[3,7]!^don't()_mul(5,5)+mul(32,64](mul(11,8)undo()?mul(8,5))\"\"\""
   ]
  },
  {
   "cell_type": "code",
   "execution_count": 4,
   "id": "f2d86183-a857-4aca-ac11-6cf61728a917",
   "metadata": {
    "scrolled": true
   },
   "outputs": [
    {
     "name": "stdout",
     "output_type": "stream",
     "text": [
      "mul(2,4)\n",
      "don't()\n",
      "mul(5,5)\n",
      "mul(11,8)\n",
      "do()\n",
      "mul(8,5)\n"
     ]
    },
    {
     "data": {
      "text/plain": [
       "\u001b[36mre\u001b[39m: \u001b[32mscala\u001b[39m.\u001b[32mutil\u001b[39m.\u001b[32mmatching\u001b[39m.\u001b[32mRegex\u001b[39m = (mul\\(\\d+,\\d+\\)|don\\'t\\(\\)|do\\(\\))\r\n",
       "\u001b[36minstructions\u001b[39m: \u001b[32mIterator\u001b[39m[\u001b[32mscala\u001b[39m.\u001b[32mutil\u001b[39m.\u001b[32mmatching\u001b[39m.\u001b[32mRegex\u001b[39m.\u001b[32mMatch\u001b[39m] = \u001b[32mempty iterator\u001b[39m"
      ]
     },
     "execution_count": 4,
     "metadata": {},
     "output_type": "execute_result"
    }
   ],
   "source": [
    "val re = \"(mul\\\\(\\\\d+,\\\\d+\\\\)|don\\\\'t\\\\(\\\\)|do\\\\(\\\\))\".r\n",
    "val instructions = re.findAllMatchIn(test_input_2)\n",
    "instructions.foreach {elem => println(elem)}"
   ]
  },
  {
   "cell_type": "code",
   "execution_count": 5,
   "id": "bffd94de-640f-44a7-a1b6-9f36b581cd4b",
   "metadata": {
    "scrolled": true
   },
   "outputs": [
    {
     "data": {
      "text/plain": [
       "defined \u001b[32mfunction\u001b[39m \u001b[36mexecute_instructions_2\u001b[39m"
      ]
     },
     "execution_count": 5,
     "metadata": {},
     "output_type": "execute_result"
    }
   ],
   "source": [
    "def execute_instructions_2(input: String): Int = {\n",
    "    val re = \"(mul\\\\(\\\\d+,\\\\d+\\\\)|don\\\\'t\\\\(\\\\)|do\\\\(\\\\))\".r\n",
    "    val instructions = re.findAllMatchIn(input)\n",
    "    \n",
    "    var clean_instructions: Seq[String] = Seq()\n",
    "    var execute = 1\n",
    "    \n",
    "    instructions.foreach { instr => \n",
    "        if (instr.toString.startsWith(\"mul\") && execute == 1) {\n",
    "            clean_instructions = clean_instructions :+ instr.toString\n",
    "        }\n",
    "        else if (instr.toString.startsWith(\"do()\")) {\n",
    "            execute = 1\n",
    "        }\n",
    "        else if (instr.toString.startsWith(\"don't()\")) {\n",
    "            execute = 0\n",
    "        }\n",
    "    }\n",
    "    clean_instructions\n",
    "        .map(\"(\\\\d+)\".r.findAllMatchIn(_)\n",
    "             .map(_.toString.toInt).toSeq.product\n",
    "            )\n",
    "        .sum\n",
    "}"
   ]
  },
  {
   "cell_type": "code",
   "execution_count": 6,
   "id": "3a40df1d-7c9f-4217-a23c-ddd81682aef5",
   "metadata": {},
   "outputs": [
    {
     "data": {
      "text/plain": [
       "\u001b[36mres5\u001b[39m: \u001b[32mInt\u001b[39m = \u001b[32m48\u001b[39m"
      ]
     },
     "execution_count": 6,
     "metadata": {},
     "output_type": "execute_result"
    }
   ],
   "source": [
    "execute_instructions_2(test_input_2)"
   ]
  },
  {
   "cell_type": "markdown",
   "id": "1154590b-2cf0-4df6-b9c0-c51f6ee74326",
   "metadata": {},
   "source": [
    "## Problem input"
   ]
  },
  {
   "cell_type": "code",
   "execution_count": 7,
   "id": "910b2e41-8789-4454-9f09-97246e11f231",
   "metadata": {
    "collapsed": true,
    "jupyter": {
     "outputs_hidden": true
    }
   },
   "outputs": [
    {
     "data": {
      "text/plain": [
       "\u001b[32mimport \u001b[39m\u001b[36mscala.io._\n",
       "\u001b[39m\r\n",
       "\u001b[36minput\u001b[39m: \u001b[32mString\u001b[39m = \u001b[32m\"\"\"}why()'//mul(118,270)who(768,873)'mul(303,230)'{how()when()<@,}mul(512,183),']why()(who()&<when()~don't()who()~)-why(899,149)how()mul(931,445)how(852,127)from()why()<mul(142,121)>$(((]*mul(901,328),what()@<^])-mul(933,154)mul(560,337)$mul(173,233):why()when()*!+@?/how()mul(372,472){/how()-'){mul(851,778)who(667,458)^+]-/where()from()#why(593,555)mul(815,971)mul(358,457)?mul(69,599)^-)/!mul(464,350)why()who()what()where();mul(110,980);who()][how()~^who()^mul(288,178):%(@&,mul(30,469)*select(308,586)why(15,330)~@mul(446,558){{'why()?select()%~'$mul(845,144)#}}%-@;),#mul(111,87); <#mul(645,89)  ~+mul(185,720)why()what()(&how()<'why()[select()do()!^'({!'>#[mul(112,567)*mul(554,555)-why()@<@from(983,810){$->mul(701,70)mul(850,508)where()[-@(how())'how(259,50)mul(600,526)select()}how()%?mul(374,167)who()@>where()(&/-(mul(908,717)/from()do(){:&(mul(438,764) ;how(){]]mul(755,362)how()when():~$mul(594,595)select()?{%#]mul(299,480)(],mul(310,106))(when()/#+&where()^mul(417,560)?,-,mul(974,911)^)(^where()@&$:{mul(363,316)where()how()>> (&do()-:-what()]}mul(791,291)(where()>where()mul(510,827)@mul(676,96)^what(677,473),@>~what()!(mul(307,685)from()!mul(503,867)who():$, &;mul(615,600)select()<+mul(337,796)from()who()/+mul(810,119)'/;'>[+from()mul(803,4)$mul(840,8);%from()( $#<don't(){what(828,13) <how()mul(500,999)why()@how()! what()}!when()mul(561,836)what()^mul(420,642)who()why(850,680)!+:>mul(451,85)[</where()@ )~mul(45,238)'how();#$mul(570,455)from()+why()#why(274,863))mul(442,521){when()%from()!%mul(322,173)why()#mul(860,593)+?/@mul(598,396)what()&%mul(596,862)'/<when()@! /[&mul(272,461)who(542,616)-who(179,673)+mul(94,5)?when()what();^mul(503,59)when(614,644)}!why()>what()/mul(581,231)^(mul(388,767)# <}:(>#$mul(712,740)select()what()*'mul(991,610)from()&<select()mul(232,36)$&[^]}/mul(735,524)how(131,882)!*mul(604,108)(%#mul(489,33)who()}~?where()-!@mul(893,647)why()+why(36,296)#-*[mul(912,884)'%'don't();from()who()mul(308,232)~,;%,;,mul(724,943)]where()who()from()why()mul(22,272from()when()*&?$where()*mul(501,512)select()^where()]-'-*{[mul(406,285) from()mul(367,130how()%don't()when()[$select():>who()mul(350,378)?when()%@%mul(548,504)what()?from()select()when() select()(@<mul(982,920);why()mul(573,447)] mul(98,922)*+}mul(275,119)?why()~?why())who()!mul(451,680)#+>mul:select()where(673,310)@]~##;+~mul(709,342)%/'select())</}mul(377,711)/}%mul(290,269)]/mul(701,399)@*;who()}mul(456,787)><,-!how(998,965)mul(115,998)&$who()]^+mul(816}'mul(861,544)*mul(712,683)*where()*mul+who() mul(507,89)when(),where()why()}mul(142,592why()don't()what()select()]?~why()from()#mul(495,289)]don't()when()(how()select()*mul(965,272)#?]$who();*[where()}mul(40,185what()/{[%'-+mul(232,472)$,-;why()@;~%:mul(868,459)when()[!/mul(498,100)where() ]don't()>!why()+}}@mul(352,210)]where()]mul(871,480){;@where(570,531)>^>@why()mul(918how()[how()from()>-when()how():$do()from()when(686,735)what()mul(29,449))%,){from()<^mul(347,529)select()#@^'!mul(918,57)mul(452,298)who()<@@%mul(262,346)}mul}'[why()where(232,142)where()%@mul(315,783)select()why()+! '+mul(752,60)$,where()?from(562,430)from()+what();select(\u001b[39m..."
      ]
     },
     "execution_count": 7,
     "metadata": {},
     "output_type": "execute_result"
    }
   ],
   "source": [
    "import scala.io._\n",
    "val input = Source.fromFile(\"day3_input.txt\").mkString"
   ]
  },
  {
   "cell_type": "markdown",
   "id": "0bf0f69c-b172-4108-a4a9-e11fd8a02939",
   "metadata": {},
   "source": [
    "## Part 1"
   ]
  },
  {
   "cell_type": "code",
   "execution_count": 8,
   "id": "8ba9454e-3cef-4519-a358-4b744c4dad29",
   "metadata": {
    "scrolled": true
   },
   "outputs": [
    {
     "data": {
      "text/plain": [
       "\u001b[36mre\u001b[39m: \u001b[32mscala\u001b[39m.\u001b[32mutil\u001b[39m.\u001b[32mmatching\u001b[39m.\u001b[32mRegex\u001b[39m = mul\\(\\d+,\\d+\\)\r\n",
       "\u001b[36mresult\u001b[39m: \u001b[32mInt\u001b[39m = \u001b[32m179571322\u001b[39m"
      ]
     },
     "execution_count": 8,
     "metadata": {},
     "output_type": "execute_result"
    }
   ],
   "source": [
    "val re = \"mul\\\\(\\\\d+,\\\\d+\\\\)\".r\n",
    "val result = re.findAllMatchIn(input)\n",
    "    .map(_.toString).toSeq\n",
    "    .map(\"(\\\\d+)\".r.findAllMatchIn(_)\n",
    "         .map(_.toString.toInt).toSeq.product\n",
    "        )\n",
    "    .sum"
   ]
  },
  {
   "cell_type": "markdown",
   "id": "50adae5b-5472-4129-a292-d5b720876739",
   "metadata": {},
   "source": [
    "## Part 2"
   ]
  },
  {
   "cell_type": "code",
   "execution_count": 9,
   "id": "ac704529-4d5d-4004-b1d9-534ed88efe5a",
   "metadata": {
    "scrolled": true
   },
   "outputs": [
    {
     "data": {
      "text/plain": [
       "\u001b[36mres8\u001b[39m: \u001b[32mInt\u001b[39m = \u001b[32m103811193\u001b[39m"
      ]
     },
     "execution_count": 9,
     "metadata": {},
     "output_type": "execute_result"
    }
   ],
   "source": [
    "execute_instructions_2(input)"
   ]
  },
  {
   "cell_type": "code",
   "execution_count": null,
   "id": "cf293f6d-7169-4cef-b624-4c00c29c668b",
   "metadata": {},
   "outputs": [],
   "source": []
  }
 ],
 "metadata": {
  "kernelspec": {
   "display_name": "Scala",
   "language": "scala",
   "name": "scala"
  },
  "language_info": {
   "codemirror_mode": "text/x-scala",
   "file_extension": ".scala",
   "mimetype": "text/x-scala",
   "name": "scala",
   "nbconvert_exporter": "script",
   "version": "2.12.11"
  }
 },
 "nbformat": 4,
 "nbformat_minor": 5
}
