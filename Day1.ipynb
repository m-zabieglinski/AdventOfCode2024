{
 "cells": [
  {
   "cell_type": "markdown",
   "id": "76b77c83-4175-406a-9c7e-45ea93ae8267",
   "metadata": {},
   "source": [
    "## Example\n",
    "```\n",
    "3   4\n",
    "4   3\n",
    "2   5\n",
    "1   3\n",
    "3   9\n",
    "3   3\n",
    "```"
   ]
  },
  {
   "cell_type": "code",
   "execution_count": 27,
   "id": "1ecbf745-a4c3-4e81-96f4-cabb46dc96d6",
   "metadata": {},
   "outputs": [
    {
     "data": {
      "text/plain": [
       "\u001b[36mleft_seq\u001b[39m: \u001b[32mSeq\u001b[39m[\u001b[32mInt\u001b[39m] = \u001b[33mList\u001b[39m(\u001b[32m3\u001b[39m, \u001b[32m4\u001b[39m, \u001b[32m2\u001b[39m, \u001b[32m1\u001b[39m, \u001b[32m3\u001b[39m, \u001b[32m3\u001b[39m)\r\n",
       "\u001b[36mright_seq\u001b[39m: \u001b[32mSeq\u001b[39m[\u001b[32mInt\u001b[39m] = \u001b[33mList\u001b[39m(\u001b[32m4\u001b[39m, \u001b[32m3\u001b[39m, \u001b[32m5\u001b[39m, \u001b[32m3\u001b[39m, \u001b[32m9\u001b[39m, \u001b[32m3\u001b[39m)"
      ]
     },
     "execution_count": 27,
     "metadata": {},
     "output_type": "execute_result"
    }
   ],
   "source": [
    "val left_seq = Seq(3, 4, 2, 1, 3, 3)\n",
    "val right_seq = Seq(4, 3, 5, 3, 9, 3)"
   ]
  },
  {
   "cell_type": "markdown",
   "id": "8f732079-a769-4c18-be08-6355a1c00f38",
   "metadata": {},
   "source": [
    "### Part 1 example test"
   ]
  },
  {
   "cell_type": "code",
   "execution_count": 28,
   "id": "4aeb1790-3544-4c9c-8974-e915139153f3",
   "metadata": {},
   "outputs": [
    {
     "data": {
      "text/plain": [
       "\u001b[36mleft_sorted\u001b[39m: \u001b[32mSeq\u001b[39m[\u001b[32mInt\u001b[39m] = \u001b[33mList\u001b[39m(\u001b[32m1\u001b[39m, \u001b[32m2\u001b[39m, \u001b[32m3\u001b[39m, \u001b[32m3\u001b[39m, \u001b[32m3\u001b[39m, \u001b[32m4\u001b[39m)\r\n",
       "\u001b[36mright_sorted\u001b[39m: \u001b[32mSeq\u001b[39m[\u001b[32mInt\u001b[39m] = \u001b[33mList\u001b[39m(\u001b[32m3\u001b[39m, \u001b[32m3\u001b[39m, \u001b[32m3\u001b[39m, \u001b[32m4\u001b[39m, \u001b[32m5\u001b[39m, \u001b[32m9\u001b[39m)\r\n",
       "\u001b[36mtotal_difference\u001b[39m: \u001b[32mInt\u001b[39m = \u001b[32m11\u001b[39m"
      ]
     },
     "execution_count": 28,
     "metadata": {},
     "output_type": "execute_result"
    }
   ],
   "source": [
    "val left_sorted = left_seq.sorted\n",
    "val right_sorted = right_seq.sorted\n",
    "\n",
    "val total_difference = left_sorted.zip(right_sorted)\n",
    "    .map( {case (l, r) => (l - r).abs} )\n",
    "    .sum"
   ]
  },
  {
   "cell_type": "markdown",
   "id": "00db7419-14cd-49c5-ae5a-b5ca5a56669b",
   "metadata": {},
   "source": [
    "### Part 2 example test"
   ]
  },
  {
   "cell_type": "code",
   "execution_count": 31,
   "id": "bffd94de-640f-44a7-a1b6-9f36b581cd4b",
   "metadata": {
    "scrolled": true
   },
   "outputs": [
    {
     "data": {
      "text/plain": [
       "\u001b[36mleft_sorted\u001b[39m: \u001b[32mSeq\u001b[39m[\u001b[32mInt\u001b[39m] = \u001b[33mList\u001b[39m(\u001b[32m1\u001b[39m, \u001b[32m2\u001b[39m, \u001b[32m3\u001b[39m, \u001b[32m3\u001b[39m, \u001b[32m3\u001b[39m, \u001b[32m4\u001b[39m)\r\n",
       "\u001b[36mright_sorted\u001b[39m: \u001b[32mSeq\u001b[39m[\u001b[32mInt\u001b[39m] = \u001b[33mList\u001b[39m(\u001b[32m3\u001b[39m, \u001b[32m3\u001b[39m, \u001b[32m3\u001b[39m, \u001b[32m4\u001b[39m, \u001b[32m5\u001b[39m, \u001b[32m9\u001b[39m)\r\n",
       "\u001b[36msimilarity_score\u001b[39m: \u001b[32mInt\u001b[39m = \u001b[32m31\u001b[39m"
      ]
     },
     "execution_count": 31,
     "metadata": {},
     "output_type": "execute_result"
    }
   ],
   "source": [
    "val left_sorted = left_seq.sorted\n",
    "val right_sorted = right_seq.sorted\n",
    "\n",
    "val similarity_score = left_sorted\n",
    "    .map(x => x * right_sorted.count(_ == x))\n",
    "    .sum"
   ]
  },
  {
   "cell_type": "markdown",
   "id": "1154590b-2cf0-4df6-b9c0-c51f6ee74326",
   "metadata": {},
   "source": [
    "## Problem input"
   ]
  },
  {
   "cell_type": "code",
   "execution_count": 32,
   "id": "910b2e41-8789-4454-9f09-97246e11f231",
   "metadata": {},
   "outputs": [
    {
     "data": {
      "text/plain": [
       "\u001b[32mimport \u001b[39m\u001b[36m$ivy.$                          \n",
       "\u001b[39m\r\n",
       "\u001b[36mpath\u001b[39m: \u001b[32mos\u001b[39m.\u001b[32mPath\u001b[39m = C:\\Users\\ejwod\\AdventOfCode2024\\day1_input.txt"
      ]
     },
     "execution_count": 32,
     "metadata": {},
     "output_type": "execute_result"
    }
   ],
   "source": [
    "import $ivy.`com.lihaoyi::os-lib:0.9.1`\n",
    "val path: os.Path = os.pwd / \"day1_input.txt\""
   ]
  },
  {
   "cell_type": "markdown",
   "id": "0bf0f69c-b172-4108-a4a9-e11fd8a02939",
   "metadata": {},
   "source": [
    "## Part 1"
   ]
  },
  {
   "cell_type": "code",
   "execution_count": 33,
   "id": "325d4e17-23fc-4225-b03d-8f6cf866de4a",
   "metadata": {
    "scrolled": true
   },
   "outputs": [
    {
     "data": {
      "text/plain": [
       "\u001b[36mlines\u001b[39m: \u001b[32mSeq\u001b[39m[\u001b[32mString\u001b[39m] = \u001b[33mWrappedArray\u001b[39m(\n",
       "  \u001b[32m\"18102   93258\"\u001b[39m,\n",
       "  \u001b[32m\"34171   50404\"\u001b[39m,\n",
       "  \u001b[32m\"48236   60718\"\u001b[39m,\n",
       "  \u001b[32m\"10441   41669\"\u001b[39m,\n",
       "  \u001b[32m\"63428   45329\"\u001b[39m,\n",
       "  \u001b[32m\"42451   56834\"\u001b[39m,\n",
       "  \u001b[32m\"74881   39407\"\u001b[39m,\n",
       "  \u001b[32m\"32801   36101\"\u001b[39m,\n",
       "  \u001b[32m\"52771   79895\"\u001b[39m,\n",
       "  \u001b[32m\"41513   78731\"\u001b[39m,\n",
       "  \u001b[32m\"81076   52363\"\u001b[39m,\n",
       "  \u001b[32m\"87623   35520\"\u001b[39m,\n",
       "  \u001b[32m\"15259   96330\"\u001b[39m,\n",
       "  \u001b[32m\"57319   78241\"\u001b[39m,\n",
       "  \u001b[32m\"42758   41144\"\u001b[39m,\n",
       "  \u001b[32m\"80744   20357\"\u001b[39m,\n",
       "  \u001b[32m\"28199   55267\"\u001b[39m,\n",
       "  \u001b[32m\"22505   35520\"\u001b[39m,\n",
       "  \u001b[32m\"74707   74819\"\u001b[39m,\n",
       "  \u001b[32m\"67725   96130\"\u001b[39m,\n",
       "  \u001b[32m\"13883   35520\"\u001b[39m,\n",
       "  \u001b[32m\"87486   55267\"\u001b[39m,\n",
       "  \u001b[32m\"25070   30977\"\u001b[39m,\n",
       "  \u001b[32m\"10199   74819\"\u001b[39m,\n",
       "  \u001b[32m\"91803   75066\"\u001b[39m,\n",
       "  \u001b[32m\"60122   78266\"\u001b[39m,\n",
       "  \u001b[32m\"17884   61488\"\u001b[39m,\n",
       "  \u001b[32m\"41073   81666\"\u001b[39m,\n",
       "  \u001b[32m\"24778   15223\"\u001b[39m,\n",
       "  \u001b[32m\"46587   87276\"\u001b[39m,\n",
       "  \u001b[32m\"75477   82771\"\u001b[39m,\n",
       "  \u001b[32m\"78585   59630\"\u001b[39m,\n",
       "  \u001b[32m\"23143   20028\"\u001b[39m,\n",
       "  \u001b[32m\"67975   13674\"\u001b[39m,\n",
       "  \u001b[32m\"33304   70802\"\u001b[39m,\n",
       "  \u001b[32m\"19939   50051\"\u001b[39m,\n",
       "  \u001b[32m\"35520   52616\"\u001b[39m,\n",
       "  \u001b[32m\"73263   19938\"\u001b[39m,\n",
       "..."
      ]
     },
     "execution_count": 33,
     "metadata": {},
     "output_type": "execute_result"
    }
   ],
   "source": [
    "val lines: Seq[String]  = os.read.lines(path)"
   ]
  },
  {
   "cell_type": "code",
   "execution_count": 34,
   "id": "8ba9454e-3cef-4519-a358-4b744c4dad29",
   "metadata": {
    "scrolled": true
   },
   "outputs": [
    {
     "data": {
      "text/plain": [
       "\u001b[36mleft_seq\u001b[39m: \u001b[32mSeq\u001b[39m[\u001b[32mInt\u001b[39m] = \u001b[33mArrayBuffer\u001b[39m(\n",
       "  \u001b[32m18102\u001b[39m,\n",
       "  \u001b[32m34171\u001b[39m,\n",
       "  \u001b[32m48236\u001b[39m,\n",
       "  \u001b[32m10441\u001b[39m,\n",
       "  \u001b[32m63428\u001b[39m,\n",
       "  \u001b[32m42451\u001b[39m,\n",
       "  \u001b[32m74881\u001b[39m,\n",
       "  \u001b[32m32801\u001b[39m,\n",
       "  \u001b[32m52771\u001b[39m,\n",
       "  \u001b[32m41513\u001b[39m,\n",
       "  \u001b[32m81076\u001b[39m,\n",
       "  \u001b[32m87623\u001b[39m,\n",
       "  \u001b[32m15259\u001b[39m,\n",
       "  \u001b[32m57319\u001b[39m,\n",
       "  \u001b[32m42758\u001b[39m,\n",
       "  \u001b[32m80744\u001b[39m,\n",
       "  \u001b[32m28199\u001b[39m,\n",
       "  \u001b[32m22505\u001b[39m,\n",
       "  \u001b[32m74707\u001b[39m,\n",
       "  \u001b[32m67725\u001b[39m,\n",
       "  \u001b[32m13883\u001b[39m,\n",
       "  \u001b[32m87486\u001b[39m,\n",
       "  \u001b[32m25070\u001b[39m,\n",
       "  \u001b[32m10199\u001b[39m,\n",
       "  \u001b[32m91803\u001b[39m,\n",
       "  \u001b[32m60122\u001b[39m,\n",
       "  \u001b[32m17884\u001b[39m,\n",
       "  \u001b[32m41073\u001b[39m,\n",
       "  \u001b[32m24778\u001b[39m,\n",
       "  \u001b[32m46587\u001b[39m,\n",
       "  \u001b[32m75477\u001b[39m,\n",
       "  \u001b[32m78585\u001b[39m,\n",
       "  \u001b[32m23143\u001b[39m,\n",
       "  \u001b[32m67975\u001b[39m,\n",
       "  \u001b[32m33304\u001b[39m,\n",
       "  \u001b[32m19939\u001b[39m,\n",
       "  \u001b[32m35520\u001b[39m,\n",
       "  \u001b[32m73263\u001b[39m,\n",
       "...\r\n",
       "\u001b[36mright_seq\u001b[39m: \u001b[32mSeq\u001b[39m[\u001b[32mInt\u001b[39m] = \u001b[33mArrayBuffer\u001b[39m(\n",
       "  \u001b[32m93258\u001b[39m,\n",
       "  \u001b[32m50404\u001b[39m,\n",
       "  \u001b[32m60718\u001b[39m,\n",
       "  \u001b[32m41669\u001b[39m,\n",
       "  \u001b[32m45329\u001b[39m,\n",
       "  \u001b[32m56834\u001b[39m,\n",
       "  \u001b[32m39407\u001b[39m,\n",
       "  \u001b[32m36101\u001b[39m,\n",
       "  \u001b[32m79895\u001b[39m,\n",
       "  \u001b[32m78731\u001b[39m,\n",
       "  \u001b[32m52363\u001b[39m,\n",
       "  \u001b[32m35520\u001b[39m,\n",
       "  \u001b[32m96330\u001b[39m,\n",
       "  \u001b[32m78241\u001b[39m,\n",
       "  \u001b[32m41144\u001b[39m,\n",
       "  \u001b[32m20357\u001b[39m,\n",
       "  \u001b[32m55267\u001b[39m,\n",
       "  \u001b[32m35520\u001b[39m,\n",
       "  \u001b[32m74819\u001b[39m,\n",
       "  \u001b[32m96130\u001b[39m,\n",
       "  \u001b[32m35520\u001b[39m,\n",
       "  \u001b[32m55267\u001b[39m,\n",
       "  \u001b[32m30977\u001b[39m,\n",
       "  \u001b[32m74819\u001b[39m,\n",
       "  \u001b[32m75066\u001b[39m,\n",
       "  \u001b[32m78266\u001b[39m,\n",
       "  \u001b[32m61488\u001b[39m,\n",
       "  \u001b[32m81666\u001b[39m,\n",
       "  \u001b[32m15223\u001b[39m,\n",
       "  \u001b[32m87276\u001b[39m,\n",
       "  \u001b[32m82771\u001b[39m,\n",
       "  \u001b[32m59630\u001b[39m,\n",
       "  \u001b[32m20028\u001b[39m,\n",
       "  \u001b[32m13674\u001b[39m,\n",
       "  \u001b[32m70802\u001b[39m,\n",
       "  \u001b[32m50051\u001b[39m,\n",
       "  \u001b[32m52616\u001b[39m,\n",
       "  \u001b[32m19938\u001b[39m,\n",
       "..."
      ]
     },
     "execution_count": 34,
     "metadata": {},
     "output_type": "execute_result"
    }
   ],
   "source": [
    "val left_seq: Seq[Int] = lines.map(_.split(\"   \"){0}.toInt)\n",
    "val right_seq: Seq[Int] = lines.map(_.split(\"   \"){1}.toInt)"
   ]
  },
  {
   "cell_type": "code",
   "execution_count": 25,
   "id": "4e59daca-b1c4-46ce-b19d-a572149b2303",
   "metadata": {
    "scrolled": true
   },
   "outputs": [
    {
     "data": {
      "text/plain": [
       "\u001b[36mleft_sorted\u001b[39m: \u001b[32mSeq\u001b[39m[\u001b[32mInt\u001b[39m] = \u001b[33mArrayBuffer\u001b[39m(\n",
       "  \u001b[32m10142\u001b[39m,\n",
       "  \u001b[32m10199\u001b[39m,\n",
       "  \u001b[32m10246\u001b[39m,\n",
       "  \u001b[32m10250\u001b[39m,\n",
       "  \u001b[32m10403\u001b[39m,\n",
       "  \u001b[32m10411\u001b[39m,\n",
       "  \u001b[32m10441\u001b[39m,\n",
       "  \u001b[32m10577\u001b[39m,\n",
       "  \u001b[32m10640\u001b[39m,\n",
       "  \u001b[32m11131\u001b[39m,\n",
       "  \u001b[32m11253\u001b[39m,\n",
       "  \u001b[32m11256\u001b[39m,\n",
       "  \u001b[32m11262\u001b[39m,\n",
       "  \u001b[32m11455\u001b[39m,\n",
       "  \u001b[32m11710\u001b[39m,\n",
       "  \u001b[32m11752\u001b[39m,\n",
       "  \u001b[32m11753\u001b[39m,\n",
       "  \u001b[32m11894\u001b[39m,\n",
       "  \u001b[32m12033\u001b[39m,\n",
       "  \u001b[32m12226\u001b[39m,\n",
       "  \u001b[32m12324\u001b[39m,\n",
       "  \u001b[32m12346\u001b[39m,\n",
       "  \u001b[32m12614\u001b[39m,\n",
       "  \u001b[32m12699\u001b[39m,\n",
       "  \u001b[32m12930\u001b[39m,\n",
       "  \u001b[32m12941\u001b[39m,\n",
       "  \u001b[32m12981\u001b[39m,\n",
       "  \u001b[32m13015\u001b[39m,\n",
       "  \u001b[32m13016\u001b[39m,\n",
       "  \u001b[32m13032\u001b[39m,\n",
       "  \u001b[32m13063\u001b[39m,\n",
       "  \u001b[32m13117\u001b[39m,\n",
       "  \u001b[32m13167\u001b[39m,\n",
       "  \u001b[32m13289\u001b[39m,\n",
       "  \u001b[32m13363\u001b[39m,\n",
       "  \u001b[32m13612\u001b[39m,\n",
       "  \u001b[32m13636\u001b[39m,\n",
       "  \u001b[32m13666\u001b[39m,\n",
       "...\r\n",
       "\u001b[36mright_sorted\u001b[39m: \u001b[32mSeq\u001b[39m[\u001b[32mInt\u001b[39m] = \u001b[33mArrayBuffer\u001b[39m(\n",
       "  \u001b[32m10131\u001b[39m,\n",
       "  \u001b[32m10175\u001b[39m,\n",
       "  \u001b[32m10273\u001b[39m,\n",
       "  \u001b[32m10310\u001b[39m,\n",
       "  \u001b[32m10669\u001b[39m,\n",
       "  \u001b[32m10781\u001b[39m,\n",
       "  \u001b[32m10788\u001b[39m,\n",
       "  \u001b[32m11016\u001b[39m,\n",
       "  \u001b[32m11067\u001b[39m,\n",
       "  \u001b[32m11557\u001b[39m,\n",
       "  \u001b[32m11960\u001b[39m,\n",
       "  \u001b[32m12166\u001b[39m,\n",
       "  \u001b[32m12212\u001b[39m,\n",
       "  \u001b[32m12512\u001b[39m,\n",
       "  \u001b[32m12617\u001b[39m,\n",
       "  \u001b[32m12630\u001b[39m,\n",
       "  \u001b[32m12736\u001b[39m,\n",
       "  \u001b[32m12791\u001b[39m,\n",
       "  \u001b[32m12817\u001b[39m,\n",
       "  \u001b[32m12977\u001b[39m,\n",
       "  \u001b[32m12980\u001b[39m,\n",
       "  \u001b[32m13132\u001b[39m,\n",
       "  \u001b[32m13167\u001b[39m,\n",
       "  \u001b[32m13167\u001b[39m,\n",
       "  \u001b[32m13167\u001b[39m,\n",
       "  \u001b[32m13167\u001b[39m,\n",
       "  \u001b[32m13167\u001b[39m,\n",
       "  \u001b[32m13167\u001b[39m,\n",
       "  \u001b[32m13167\u001b[39m,\n",
       "  \u001b[32m13167\u001b[39m,\n",
       "  \u001b[32m13167\u001b[39m,\n",
       "  \u001b[32m13423\u001b[39m,\n",
       "  \u001b[32m13427\u001b[39m,\n",
       "  \u001b[32m13593\u001b[39m,\n",
       "  \u001b[32m13674\u001b[39m,\n",
       "  \u001b[32m13877\u001b[39m,\n",
       "  \u001b[32m14211\u001b[39m,\n",
       "  \u001b[32m14279\u001b[39m,\n",
       "...\r\n",
       "\u001b[36mtotal_difference\u001b[39m: \u001b[32mInt\u001b[39m = \u001b[32m2378066\u001b[39m"
      ]
     },
     "execution_count": 25,
     "metadata": {},
     "output_type": "execute_result"
    }
   ],
   "source": [
    "val left_sorted = left_seq.sorted\n",
    "val right_sorted = right_seq.sorted\n",
    "\n",
    "val total_difference = left_sorted.zip(right_sorted)\n",
    "    .map( {case (l, r) => (l - r).abs} )\n",
    "    .sum"
   ]
  },
  {
   "cell_type": "markdown",
   "id": "50adae5b-5472-4129-a292-d5b720876739",
   "metadata": {},
   "source": [
    "## Part 2"
   ]
  },
  {
   "cell_type": "code",
   "execution_count": 35,
   "id": "ac704529-4d5d-4004-b1d9-534ed88efe5a",
   "metadata": {
    "scrolled": true
   },
   "outputs": [
    {
     "data": {
      "text/plain": [
       "\u001b[36mleft_sorted\u001b[39m: \u001b[32mSeq\u001b[39m[\u001b[32mInt\u001b[39m] = \u001b[33mArrayBuffer\u001b[39m(\n",
       "  \u001b[32m10142\u001b[39m,\n",
       "  \u001b[32m10199\u001b[39m,\n",
       "  \u001b[32m10246\u001b[39m,\n",
       "  \u001b[32m10250\u001b[39m,\n",
       "  \u001b[32m10403\u001b[39m,\n",
       "  \u001b[32m10411\u001b[39m,\n",
       "  \u001b[32m10441\u001b[39m,\n",
       "  \u001b[32m10577\u001b[39m,\n",
       "  \u001b[32m10640\u001b[39m,\n",
       "  \u001b[32m11131\u001b[39m,\n",
       "  \u001b[32m11253\u001b[39m,\n",
       "  \u001b[32m11256\u001b[39m,\n",
       "  \u001b[32m11262\u001b[39m,\n",
       "  \u001b[32m11455\u001b[39m,\n",
       "  \u001b[32m11710\u001b[39m,\n",
       "  \u001b[32m11752\u001b[39m,\n",
       "  \u001b[32m11753\u001b[39m,\n",
       "  \u001b[32m11894\u001b[39m,\n",
       "  \u001b[32m12033\u001b[39m,\n",
       "  \u001b[32m12226\u001b[39m,\n",
       "  \u001b[32m12324\u001b[39m,\n",
       "  \u001b[32m12346\u001b[39m,\n",
       "  \u001b[32m12614\u001b[39m,\n",
       "  \u001b[32m12699\u001b[39m,\n",
       "  \u001b[32m12930\u001b[39m,\n",
       "  \u001b[32m12941\u001b[39m,\n",
       "  \u001b[32m12981\u001b[39m,\n",
       "  \u001b[32m13015\u001b[39m,\n",
       "  \u001b[32m13016\u001b[39m,\n",
       "  \u001b[32m13032\u001b[39m,\n",
       "  \u001b[32m13063\u001b[39m,\n",
       "  \u001b[32m13117\u001b[39m,\n",
       "  \u001b[32m13167\u001b[39m,\n",
       "  \u001b[32m13289\u001b[39m,\n",
       "  \u001b[32m13363\u001b[39m,\n",
       "  \u001b[32m13612\u001b[39m,\n",
       "  \u001b[32m13636\u001b[39m,\n",
       "  \u001b[32m13666\u001b[39m,\n",
       "...\r\n",
       "\u001b[36mright_sorted\u001b[39m: \u001b[32mSeq\u001b[39m[\u001b[32mInt\u001b[39m] = \u001b[33mArrayBuffer\u001b[39m(\n",
       "  \u001b[32m10131\u001b[39m,\n",
       "  \u001b[32m10175\u001b[39m,\n",
       "  \u001b[32m10273\u001b[39m,\n",
       "  \u001b[32m10310\u001b[39m,\n",
       "  \u001b[32m10669\u001b[39m,\n",
       "  \u001b[32m10781\u001b[39m,\n",
       "  \u001b[32m10788\u001b[39m,\n",
       "  \u001b[32m11016\u001b[39m,\n",
       "  \u001b[32m11067\u001b[39m,\n",
       "  \u001b[32m11557\u001b[39m,\n",
       "  \u001b[32m11960\u001b[39m,\n",
       "  \u001b[32m12166\u001b[39m,\n",
       "  \u001b[32m12212\u001b[39m,\n",
       "  \u001b[32m12512\u001b[39m,\n",
       "  \u001b[32m12617\u001b[39m,\n",
       "  \u001b[32m12630\u001b[39m,\n",
       "  \u001b[32m12736\u001b[39m,\n",
       "  \u001b[32m12791\u001b[39m,\n",
       "  \u001b[32m12817\u001b[39m,\n",
       "  \u001b[32m12977\u001b[39m,\n",
       "  \u001b[32m12980\u001b[39m,\n",
       "  \u001b[32m13132\u001b[39m,\n",
       "  \u001b[32m13167\u001b[39m,\n",
       "  \u001b[32m13167\u001b[39m,\n",
       "  \u001b[32m13167\u001b[39m,\n",
       "  \u001b[32m13167\u001b[39m,\n",
       "  \u001b[32m13167\u001b[39m,\n",
       "  \u001b[32m13167\u001b[39m,\n",
       "  \u001b[32m13167\u001b[39m,\n",
       "  \u001b[32m13167\u001b[39m,\n",
       "  \u001b[32m13167\u001b[39m,\n",
       "  \u001b[32m13423\u001b[39m,\n",
       "  \u001b[32m13427\u001b[39m,\n",
       "  \u001b[32m13593\u001b[39m,\n",
       "  \u001b[32m13674\u001b[39m,\n",
       "  \u001b[32m13877\u001b[39m,\n",
       "  \u001b[32m14211\u001b[39m,\n",
       "  \u001b[32m14279\u001b[39m,\n",
       "...\r\n",
       "\u001b[36msimilarity_score\u001b[39m: \u001b[32mInt\u001b[39m = \u001b[32m18934359\u001b[39m"
      ]
     },
     "execution_count": 35,
     "metadata": {},
     "output_type": "execute_result"
    }
   ],
   "source": [
    "val left_sorted = left_seq.sorted\n",
    "val right_sorted = right_seq.sorted\n",
    "\n",
    "val similarity_score = left_sorted\n",
    "    .map(x => x * right_sorted.count(_ == x))\n",
    "    .sum"
   ]
  },
  {
   "cell_type": "code",
   "execution_count": null,
   "id": "cf293f6d-7169-4cef-b624-4c00c29c668b",
   "metadata": {},
   "outputs": [],
   "source": []
  }
 ],
 "metadata": {
  "kernelspec": {
   "display_name": "Scala",
   "language": "scala",
   "name": "scala"
  },
  "language_info": {
   "codemirror_mode": "text/x-scala",
   "file_extension": ".scala",
   "mimetype": "text/x-scala",
   "name": "scala",
   "nbconvert_exporter": "script",
   "version": "2.12.11"
  }
 },
 "nbformat": 4,
 "nbformat_minor": 5
}
